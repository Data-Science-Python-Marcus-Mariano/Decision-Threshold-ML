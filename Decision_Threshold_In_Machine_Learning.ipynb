{
 "cells": [
  {
   "cell_type": "markdown",
   "metadata": {},
   "source": [
    "<span style=\"font-family: Arial; color:green; font-size:1.6em; font-weight:bold\" >__Decision Threshold In Machine Learning__</span>\n",
    "\n",
    "Tutorial for improve skills: 'Decision Threshold In Machine Learning' (from GeeksforGeeks) by Marcus Mariano\n",
    "\n",
    "**For more information about Marcus Mariano: [Web site](https://marcusmariano.github.io/mmariano/)**  \n",
    "\n",
    "**Decision Threshold In Machine Learning: [GeeksforGeeks](https://www.geeksforgeeks.org/decision-threshold-in-machine-learning/)**\n"
   ]
  },
  {
   "cell_type": "markdown",
   "metadata": {},
   "source": [
    "## Import Packages"
   ]
  },
  {
   "cell_type": "code",
   "execution_count": 1,
   "metadata": {
    "ExecuteTime": {
     "end_time": "2021-09-24T22:18:52.633802Z",
     "start_time": "2021-09-24T22:18:50.600113Z"
    }
   },
   "outputs": [],
   "source": [
    "import pandas as pd\n",
    "import numpy as np\n",
    "\n",
    "from tqdm.notebook import tqdm\n",
    "\n",
    "from matplotlib import pyplot as plt\n",
    "import seaborn as sns\n",
    "\n",
    "sns.set(style=\"darkgrid\", color_codes=True)\n",
    "%matplotlib inline"
   ]
  },
  {
   "cell_type": "markdown",
   "metadata": {},
   "source": [
    "## Set parameters"
   ]
  },
  {
   "cell_type": "code",
   "execution_count": 2,
   "metadata": {
    "ExecuteTime": {
     "end_time": "2021-09-24T22:18:52.649801Z",
     "start_time": "2021-09-24T22:18:52.636803Z"
    }
   },
   "outputs": [],
   "source": [
    "N_THREADS = 6 # threads cnt for lgbm and linear models\n",
    "N_FOLDS = 5 # folds cnt for AutoML\n",
    "N_JOBS = -1\n",
    "SEED = 0 # fixed random state for various reasons\n",
    "TEST_SIZE = 0.3 # Test size for metric check\n",
    "VERBOSE = 1\n",
    "TIMEOUT = 600 # Time in seconds for automl run, 600 seconds = 10 minutes\n",
    "RAM = 7 #  Number of RAM limit\n",
    "CPU_LIMIT = 4 # Number of CPU limit\n",
    "TARGET_NAME = 'y'"
   ]
  },
  {
   "cell_type": "markdown",
   "metadata": {},
   "source": [
    "## Load Datasets"
   ]
  },
  {
   "cell_type": "code",
   "execution_count": 3,
   "metadata": {
    "ExecuteTime": {
     "end_time": "2021-09-24T22:18:54.780757Z",
     "start_time": "2021-09-24T22:18:53.257413Z"
    }
   },
   "outputs": [
    {
     "name": "stdout",
     "output_type": "stream",
     "text": [
      "(569, 31)\n"
     ]
    },
    {
     "data": {
      "text/html": [
       "<div>\n",
       "<style scoped>\n",
       "    .dataframe tbody tr th:only-of-type {\n",
       "        vertical-align: middle;\n",
       "    }\n",
       "\n",
       "    .dataframe tbody tr th {\n",
       "        vertical-align: top;\n",
       "    }\n",
       "\n",
       "    .dataframe thead th {\n",
       "        text-align: right;\n",
       "    }\n",
       "</style>\n",
       "<table border=\"1\" class=\"dataframe\">\n",
       "  <thead>\n",
       "    <tr style=\"text-align: right;\">\n",
       "      <th></th>\n",
       "      <th>mean radius</th>\n",
       "      <th>mean texture</th>\n",
       "      <th>mean perimeter</th>\n",
       "      <th>mean area</th>\n",
       "      <th>mean smoothness</th>\n",
       "      <th>mean compactness</th>\n",
       "      <th>mean concavity</th>\n",
       "      <th>mean concave points</th>\n",
       "      <th>mean symmetry</th>\n",
       "      <th>mean fractal dimension</th>\n",
       "      <th>...</th>\n",
       "      <th>worst texture</th>\n",
       "      <th>worst perimeter</th>\n",
       "      <th>worst area</th>\n",
       "      <th>worst smoothness</th>\n",
       "      <th>worst compactness</th>\n",
       "      <th>worst concavity</th>\n",
       "      <th>worst concave points</th>\n",
       "      <th>worst symmetry</th>\n",
       "      <th>worst fractal dimension</th>\n",
       "      <th>y</th>\n",
       "    </tr>\n",
       "  </thead>\n",
       "  <tbody>\n",
       "    <tr>\n",
       "      <th>0</th>\n",
       "      <td>17.99</td>\n",
       "      <td>10.38</td>\n",
       "      <td>122.80</td>\n",
       "      <td>1001.0</td>\n",
       "      <td>0.11840</td>\n",
       "      <td>0.27760</td>\n",
       "      <td>0.3001</td>\n",
       "      <td>0.14710</td>\n",
       "      <td>0.2419</td>\n",
       "      <td>0.07871</td>\n",
       "      <td>...</td>\n",
       "      <td>17.33</td>\n",
       "      <td>184.60</td>\n",
       "      <td>2019.0</td>\n",
       "      <td>0.1622</td>\n",
       "      <td>0.6656</td>\n",
       "      <td>0.7119</td>\n",
       "      <td>0.2654</td>\n",
       "      <td>0.4601</td>\n",
       "      <td>0.11890</td>\n",
       "      <td>0</td>\n",
       "    </tr>\n",
       "    <tr>\n",
       "      <th>1</th>\n",
       "      <td>20.57</td>\n",
       "      <td>17.77</td>\n",
       "      <td>132.90</td>\n",
       "      <td>1326.0</td>\n",
       "      <td>0.08474</td>\n",
       "      <td>0.07864</td>\n",
       "      <td>0.0869</td>\n",
       "      <td>0.07017</td>\n",
       "      <td>0.1812</td>\n",
       "      <td>0.05667</td>\n",
       "      <td>...</td>\n",
       "      <td>23.41</td>\n",
       "      <td>158.80</td>\n",
       "      <td>1956.0</td>\n",
       "      <td>0.1238</td>\n",
       "      <td>0.1866</td>\n",
       "      <td>0.2416</td>\n",
       "      <td>0.1860</td>\n",
       "      <td>0.2750</td>\n",
       "      <td>0.08902</td>\n",
       "      <td>0</td>\n",
       "    </tr>\n",
       "    <tr>\n",
       "      <th>2</th>\n",
       "      <td>19.69</td>\n",
       "      <td>21.25</td>\n",
       "      <td>130.00</td>\n",
       "      <td>1203.0</td>\n",
       "      <td>0.10960</td>\n",
       "      <td>0.15990</td>\n",
       "      <td>0.1974</td>\n",
       "      <td>0.12790</td>\n",
       "      <td>0.2069</td>\n",
       "      <td>0.05999</td>\n",
       "      <td>...</td>\n",
       "      <td>25.53</td>\n",
       "      <td>152.50</td>\n",
       "      <td>1709.0</td>\n",
       "      <td>0.1444</td>\n",
       "      <td>0.4245</td>\n",
       "      <td>0.4504</td>\n",
       "      <td>0.2430</td>\n",
       "      <td>0.3613</td>\n",
       "      <td>0.08758</td>\n",
       "      <td>0</td>\n",
       "    </tr>\n",
       "    <tr>\n",
       "      <th>3</th>\n",
       "      <td>11.42</td>\n",
       "      <td>20.38</td>\n",
       "      <td>77.58</td>\n",
       "      <td>386.1</td>\n",
       "      <td>0.14250</td>\n",
       "      <td>0.28390</td>\n",
       "      <td>0.2414</td>\n",
       "      <td>0.10520</td>\n",
       "      <td>0.2597</td>\n",
       "      <td>0.09744</td>\n",
       "      <td>...</td>\n",
       "      <td>26.50</td>\n",
       "      <td>98.87</td>\n",
       "      <td>567.7</td>\n",
       "      <td>0.2098</td>\n",
       "      <td>0.8663</td>\n",
       "      <td>0.6869</td>\n",
       "      <td>0.2575</td>\n",
       "      <td>0.6638</td>\n",
       "      <td>0.17300</td>\n",
       "      <td>0</td>\n",
       "    </tr>\n",
       "    <tr>\n",
       "      <th>4</th>\n",
       "      <td>20.29</td>\n",
       "      <td>14.34</td>\n",
       "      <td>135.10</td>\n",
       "      <td>1297.0</td>\n",
       "      <td>0.10030</td>\n",
       "      <td>0.13280</td>\n",
       "      <td>0.1980</td>\n",
       "      <td>0.10430</td>\n",
       "      <td>0.1809</td>\n",
       "      <td>0.05883</td>\n",
       "      <td>...</td>\n",
       "      <td>16.67</td>\n",
       "      <td>152.20</td>\n",
       "      <td>1575.0</td>\n",
       "      <td>0.1374</td>\n",
       "      <td>0.2050</td>\n",
       "      <td>0.4000</td>\n",
       "      <td>0.1625</td>\n",
       "      <td>0.2364</td>\n",
       "      <td>0.07678</td>\n",
       "      <td>0</td>\n",
       "    </tr>\n",
       "  </tbody>\n",
       "</table>\n",
       "<p>5 rows × 31 columns</p>\n",
       "</div>"
      ],
      "text/plain": [
       "   mean radius  mean texture  mean perimeter  mean area  mean smoothness  \\\n",
       "0        17.99         10.38          122.80     1001.0          0.11840   \n",
       "1        20.57         17.77          132.90     1326.0          0.08474   \n",
       "2        19.69         21.25          130.00     1203.0          0.10960   \n",
       "3        11.42         20.38           77.58      386.1          0.14250   \n",
       "4        20.29         14.34          135.10     1297.0          0.10030   \n",
       "\n",
       "   mean compactness  mean concavity  mean concave points  mean symmetry  \\\n",
       "0           0.27760          0.3001              0.14710         0.2419   \n",
       "1           0.07864          0.0869              0.07017         0.1812   \n",
       "2           0.15990          0.1974              0.12790         0.2069   \n",
       "3           0.28390          0.2414              0.10520         0.2597   \n",
       "4           0.13280          0.1980              0.10430         0.1809   \n",
       "\n",
       "   mean fractal dimension  ...  worst texture  worst perimeter  worst area  \\\n",
       "0                 0.07871  ...          17.33           184.60      2019.0   \n",
       "1                 0.05667  ...          23.41           158.80      1956.0   \n",
       "2                 0.05999  ...          25.53           152.50      1709.0   \n",
       "3                 0.09744  ...          26.50            98.87       567.7   \n",
       "4                 0.05883  ...          16.67           152.20      1575.0   \n",
       "\n",
       "   worst smoothness  worst compactness  worst concavity  worst concave points  \\\n",
       "0            0.1622             0.6656           0.7119                0.2654   \n",
       "1            0.1238             0.1866           0.2416                0.1860   \n",
       "2            0.1444             0.4245           0.4504                0.2430   \n",
       "3            0.2098             0.8663           0.6869                0.2575   \n",
       "4            0.1374             0.2050           0.4000                0.1625   \n",
       "\n",
       "   worst symmetry  worst fractal dimension  y  \n",
       "0          0.4601                  0.11890  0  \n",
       "1          0.2750                  0.08902  0  \n",
       "2          0.3613                  0.08758  0  \n",
       "3          0.6638                  0.17300  0  \n",
       "4          0.2364                  0.07678  0  \n",
       "\n",
       "[5 rows x 31 columns]"
      ]
     },
     "execution_count": 3,
     "metadata": {},
     "output_type": "execute_result"
    }
   ],
   "source": [
    "# Import required modules.\n",
    "from sklearn import datasets\n",
    "  \n",
    "# Get the data.\n",
    "\n",
    " \n",
    "# Get the names of the features.\n",
    "cols_names = data_set.feature_names\n",
    "  \n",
    "# Convert the data into pandas data frame.\n",
    "data = pd.DataFrame(data_set.data, columns = cols_names)\n",
    " \n",
    "data[TARGET_NAME] = data_set.target  # Input target variable y.\n",
    "    \n",
    "# Data Frame.\n",
    "print(data.shape)\n",
    "data.head()"
   ]
  },
  {
   "cell_type": "markdown",
   "metadata": {},
   "source": [
    "# Exploratory Data Analysis (EDA)\n"
   ]
  },
  {
   "cell_type": "code",
   "execution_count": 4,
   "metadata": {
    "ExecuteTime": {
     "end_time": "2021-09-24T22:18:55.343042Z",
     "start_time": "2021-09-24T22:18:55.321059Z"
    }
   },
   "outputs": [
    {
     "data": {
      "text/plain": [
       "mean radius                0\n",
       "mean texture               0\n",
       "mean perimeter             0\n",
       "mean area                  0\n",
       "mean smoothness            0\n",
       "mean compactness           0\n",
       "mean concavity             0\n",
       "mean concave points        0\n",
       "mean symmetry              0\n",
       "mean fractal dimension     0\n",
       "radius error               0\n",
       "texture error              0\n",
       "perimeter error            0\n",
       "area error                 0\n",
       "smoothness error           0\n",
       "compactness error          0\n",
       "concavity error            0\n",
       "concave points error       0\n",
       "symmetry error             0\n",
       "fractal dimension error    0\n",
       "worst radius               0\n",
       "worst texture              0\n",
       "worst perimeter            0\n",
       "worst area                 0\n",
       "worst smoothness           0\n",
       "worst compactness          0\n",
       "worst concavity            0\n",
       "worst concave points       0\n",
       "worst symmetry             0\n",
       "worst fractal dimension    0\n",
       "y                          0\n",
       "dtype: int64"
      ]
     },
     "execution_count": 4,
     "metadata": {},
     "output_type": "execute_result"
    }
   ],
   "source": [
    "data.isnull().sum()"
   ]
  },
  {
   "cell_type": "code",
   "execution_count": 7,
   "metadata": {
    "ExecuteTime": {
     "end_time": "2021-09-24T22:20:27.944054Z",
     "start_time": "2021-09-24T22:20:27.921072Z"
    }
   },
   "outputs": [
    {
     "data": {
      "text/plain": [
       "1    357\n",
       "0    212\n",
       "Name: y, dtype: int64"
      ]
     },
     "execution_count": 7,
     "metadata": {},
     "output_type": "execute_result"
    }
   ],
   "source": [
    "data[TARGET_NAME].value_counts()"
   ]
  },
  {
   "cell_type": "markdown",
   "metadata": {},
   "source": [
    "## Plot"
   ]
  },
  {
   "cell_type": "code",
   "execution_count": 5,
   "metadata": {
    "ExecuteTime": {
     "end_time": "2021-09-24T22:18:57.373273Z",
     "start_time": "2021-09-24T22:18:57.105505Z"
    }
   },
   "outputs": [
    {
     "data": {
      "image/png": "[encoded data removed]",
      "text/plain": [
       "<Figure size 720x432 with 1 Axes>"
      ]
     },
     "metadata": {
      "needs_background": "light"
     },
     "output_type": "display_data"
    }
   ],
   "source": [
    "fig = plt.subplots(figsize=(10, 6))\n",
    "sns.countplot(x=TARGET_NAME, data=data);"
   ]
  },
  {
   "cell_type": "markdown",
   "metadata": {},
   "source": [
    "# Data Engineering"
   ]
  },
  {
   "cell_type": "markdown",
   "metadata": {},
   "source": [
    "## Immutable data"
   ]
  },
  {
   "cell_type": "code",
   "execution_count": 8,
   "metadata": {
    "ExecuteTime": {
     "end_time": "2021-09-24T22:26:30.980840Z",
     "start_time": "2021-09-24T22:26:30.971836Z"
    }
   },
   "outputs": [],
   "source": [
    "train = data.copy()"
   ]
  },
  {
   "cell_type": "markdown",
   "metadata": {},
   "source": [
    "#  Set to training model"
   ]
  },
  {
   "cell_type": "markdown",
   "metadata": {},
   "source": [
    "## Create X, y variables"
   ]
  },
  {
   "cell_type": "code",
   "execution_count": 9,
   "metadata": {
    "ExecuteTime": {
     "end_time": "2021-09-24T22:26:41.578195Z",
     "start_time": "2021-09-24T22:26:41.563196Z"
    }
   },
   "outputs": [
    {
     "name": "stdout",
     "output_type": "stream",
     "text": [
      "(569, 30) (569,)\n"
     ]
    }
   ],
   "source": [
    "# Choosing Predictors: X and Class: y\n",
    "# X = train.iloc[:, :-1]\n",
    "# y = train.iloc[:, 69]\n",
    "\n",
    "X = train.drop(TARGET_NAME, axis=1)\n",
    "y = train[TARGET_NAME]\n",
    "\n",
    "print(X.shape, y.shape)"
   ]
  },
  {
   "cell_type": "code",
   "execution_count": 10,
   "metadata": {
    "ExecuteTime": {
     "end_time": "2021-09-24T22:26:47.555838Z",
     "start_time": "2021-09-24T22:26:47.544846Z"
    }
   },
   "outputs": [
    {
     "name": "stdout",
     "output_type": "stream",
     "text": [
      "Count 0: 212\n",
      "Count 1: 357\n",
      "\n",
      "Percent of 1: 0.6274165202108963\n"
     ]
    }
   ],
   "source": [
    "print(f\"Count 0: {list(y).count(0)}\")\n",
    "print(f\"Count 1: {list(y).count(1)}\")\n",
    "\n",
    "print(f\"\\nPercent of 1: {list(y).count(1)  / (list(y).count(0) + list(y).count(1))}\")"
   ]
  },
  {
   "cell_type": "markdown",
   "metadata": {},
   "source": [
    "## Division of training and validation databases"
   ]
  },
  {
   "cell_type": "code",
   "execution_count": 11,
   "metadata": {
    "ExecuteTime": {
     "end_time": "2021-09-24T22:26:50.477682Z",
     "start_time": "2021-09-24T22:26:50.355685Z"
    }
   },
   "outputs": [
    {
     "name": "stdout",
     "output_type": "stream",
     "text": [
      "Train 70%, Valid 30% data: ((398, 30), (171, 30)) (398,) (171,)\n"
     ]
    }
   ],
   "source": [
    "from sklearn.model_selection import train_test_split\n",
    "\n",
    "\n",
    "X_train, X_valid, y_train, y_valid = train_test_split(X,\n",
    "                                                      y, \n",
    "                                                      test_size=TEST_SIZE, \n",
    "                                                      random_state=SEED) \n",
    "\n",
    "\n",
    "print(f\"Train 70%, Valid 30% data: {X_train.shape, X_valid.shape}\",\\\n",
    "                                    y_train.shape, y_valid.shape)"
   ]
  },
  {
   "cell_type": "markdown",
   "metadata": {},
   "source": [
    "# SVC Model"
   ]
  },
  {
   "cell_type": "code",
   "execution_count": 12,
   "metadata": {
    "ExecuteTime": {
     "end_time": "2021-09-24T22:26:52.950453Z",
     "start_time": "2021-09-24T22:26:52.800448Z"
    }
   },
   "outputs": [
    {
     "data": {
      "text/plain": [
       "array([0.28586342, 1.1583131 , 1.03784253, 0.49816645, 1.44837838,\n",
       "       1.41590975, 1.49228033, 1.45680078, 1.37848076, 1.55150973])"
      ]
     },
     "execution_count": 12,
     "metadata": {},
     "output_type": "execute_result"
    }
   ],
   "source": [
    "# Import required modules.\n",
    "from sklearn.svm import SVC\n",
    "from sklearn.metrics import (classification_report, recall_score, \n",
    "                             precision_score, accuracy_score)\n",
    "  \n",
    "# Create Classifier Object.\n",
    "svc = SVC()\n",
    "svc.fit(X_train, y_train)\n",
    "  \n",
    "# Use decision_function method.\n",
    "decision_function = svc.decision_function(X_valid)\n",
    "decision_function[:10]"
   ]
  },
  {
   "cell_type": "markdown",
   "metadata": {},
   "source": [
    "## Actual Scores obtained:"
   ]
  },
  {
   "cell_type": "code",
   "execution_count": 13,
   "metadata": {
    "ExecuteTime": {
     "end_time": "2021-09-24T22:26:57.328433Z",
     "start_time": "2021-09-24T22:26:57.296436Z"
    }
   },
   "outputs": [
    {
     "name": "stdout",
     "output_type": "stream",
     "text": [
      "[1 1 1 1 1 1 1 1 1 1 1 1 1 0 1 0 1 0 0 0 0 0 1 1 0 1 1 1 1 0 1 0 1 0 1 1 1\n",
      " 0 1 0 1 1 0 1 1 0 1 1 1 0 0 1 0 1 1 1 1 1 1 0 1 0 1 1 0 1 0 0 0 1 1 0 1 1\n",
      " 0 1 1 1 1 1 0 0 0 1 0 1 1 1 0 0 1 0 1 1 1 1 0 1 1 1 1 1 1 1 0 1 0 1 0 0 1\n",
      " 0 0 1 1 1 1 1 1 1 1 1 1 1 0 1 1 1 1 1 0 1 1 1 1 1 1 0 0 1 1 1 0 1 1 0 1 0\n",
      " 1 1 1 1 1 1 1 1 1 1 1 0 0 1 1 0 1 0 1 0 1 1 1] \n",
      " 0.9239766081871345 \n",
      "               precision    recall  f1-score   support\n",
      "\n",
      "           0       0.98      0.81      0.89        63\n",
      "           1       0.90      0.99      0.94       108\n",
      "\n",
      "    accuracy                           0.92       171\n",
      "   macro avg       0.94      0.90      0.91       171\n",
      "weighted avg       0.93      0.92      0.92       171\n",
      " \n",
      "\n"
     ]
    }
   ],
   "source": [
    "# Actual obtained results without any manual setting of Decision Threshold.\n",
    "preds_actual = svc.predict(X_valid)       # Predict using classifier.\n",
    "accuracy_actual = svc.score(X_valid, y_valid)\n",
    "classification_report_actual = classification_report(y_valid, preds_actual)\n",
    "\n",
    "print(preds_actual, \"\\n\", accuracy_actual, \n",
    "      \"\\n\", classification_report_actual, '\\n')"
   ]
  },
  {
   "cell_type": "code",
   "execution_count": 14,
   "metadata": {
    "ExecuteTime": {
     "end_time": "2021-09-24T22:27:03.472602Z",
     "start_time": "2021-09-24T22:27:03.137445Z"
    }
   },
   "outputs": [
    {
     "data": {
      "text/plain": [
       "Text(0.5, 1.0, 'Precision-Recall Curve')"
      ]
     },
     "execution_count": 14,
     "metadata": {},
     "output_type": "execute_result"
    },
    {
     "data": {
      "image/png": "[encoded data removed]",
      "text/plain": [
       "<Figure size 576x360 with 1 Axes>"
      ]
     },
     "metadata": {
      "needs_background": "light"
     },
     "output_type": "display_data"
    }
   ],
   "source": [
    "# Plot Precision-Recall curve using sklearn.\n",
    "from sklearn.metrics import precision_recall_curve\n",
    "\n",
    "precision, recall, thresholds = precision_recall_curve(y_valid, decision_function)\n",
    "  \n",
    "# Plot the output.\n",
    "plt.figure(figsize=(8, 5))\n",
    "plt.plot(thresholds, precision[:-1], c ='r', label ='PRECISION')\n",
    "plt.plot(thresholds, recall[:-1], c ='b', label ='RECALL')\n",
    "plt.grid()\n",
    "plt.legend()\n",
    "plt.title('Precision-Recall Curve')"
   ]
  },
  {
   "cell_type": "markdown",
   "metadata": {},
   "source": [
    "## Intercession threshold for Precision and Recall"
   ]
  },
  {
   "cell_type": "code",
   "execution_count": 23,
   "metadata": {
    "ExecuteTime": {
     "end_time": "2021-09-24T23:22:33.568017Z",
     "start_time": "2021-09-24T23:22:33.548096Z"
    }
   },
   "outputs": [
    {
     "data": {
      "text/plain": [
       "{0.9537037037037037, 1.0}"
      ]
     },
     "execution_count": 23,
     "metadata": {},
     "output_type": "execute_result"
    }
   ],
   "source": [
    "set(precision) & set(recall)"
   ]
  },
  {
   "cell_type": "code",
   "execution_count": 24,
   "metadata": {
    "ExecuteTime": {
     "end_time": "2021-09-24T23:23:28.729021Z",
     "start_time": "2021-09-24T23:23:28.715028Z"
    }
   },
   "outputs": [
    {
     "name": "stdout",
     "output_type": "stream",
     "text": [
      "Intercession  for Precision and Recall: 0.9537037037037037\n",
      "Precision index: 18\n",
      "Recall index: 18\n",
      "Intercession threshold: 0.5295436982768041\n"
     ]
    }
   ],
   "source": [
    "same_pr = 0.9537037037037037\n",
    "\n",
    "print(f'Intercession  for Precision and Recall: {same_pr}')\n",
    "print(f'Precision index: {list(precision).index(same_pr)}')\n",
    "print(f'Recall index: {list(recall).index(same_pr)}')\n",
    "\n",
    "thres_pr = thresholds[18]\n",
    "print(f'Intercession threshold: {thresholds[18]}')"
   ]
  },
  {
   "cell_type": "markdown",
   "metadata": {},
   "source": [
    "## List of Threshold close to intercession"
   ]
  },
  {
   "cell_type": "code",
   "execution_count": 25,
   "metadata": {
    "ExecuteTime": {
     "end_time": "2021-09-24T23:24:36.759210Z",
     "start_time": "2021-09-24T23:24:36.745207Z"
    }
   },
   "outputs": [
    {
     "data": {
      "text/plain": [
       "[0.43326236840871934,\n",
       " 0.46176279654643954,\n",
       " 0.4644272474908501,\n",
       " 0.47602988949317565,\n",
       " 0.5,\n",
       " 0.5295436982768041,\n",
       " 0.6075425049629221,\n",
       " 0.6177492764267867,\n",
       " 0.6197864905956196,\n",
       " 0.6559172516255781,\n",
       " 0.6738295946363356,\n",
       " 0.6820597030000143]"
      ]
     },
     "execution_count": 25,
     "metadata": {},
     "output_type": "execute_result"
    }
   ],
   "source": [
    "thres_list = []\n",
    "\n",
    "for elem in thresholds:\n",
    "    if 0.4 <= elem <= 0.7:\n",
    "        thres_list.append(elem)\n",
    "\n",
    "thres_list"
   ]
  },
  {
   "cell_type": "markdown",
   "metadata": {},
   "source": [
    "## SVC decision_function"
   ]
  },
  {
   "cell_type": "code",
   "execution_count": 27,
   "metadata": {
    "ExecuteTime": {
     "end_time": "2021-09-24T23:28:51.441669Z",
     "start_time": "2021-09-24T23:28:51.410671Z"
    }
   },
   "outputs": [
    {
     "data": {
      "text/plain": [
       "array([0.28586342, 1.1583131 , 1.03784253, 0.49816645, 1.44837838,\n",
       "       1.41590975, 1.49228033, 1.45680078, 1.37848076, 1.55150973])"
      ]
     },
     "execution_count": 27,
     "metadata": {},
     "output_type": "execute_result"
    }
   ],
   "source": [
    "# Implementing main logic.\n",
    "  \n",
    "# Based on analysis of the Precision-Recall curve.\n",
    "# Let Decision Threshold value be around 0.6... \n",
    "# to get high Precision without affecting recall much.\n",
    "# Desired results.\n",
    "  \n",
    "# Decision Function output for x_test.\n",
    "d_func = svc.decision_function(X_valid)\n",
    "  \n",
    "d_func[:10]\n",
    "\n"
   ]
  },
  {
   "cell_type": "markdown",
   "metadata": {},
   "source": [
    "So we need to choose that value of __Decision Threshold__ which would __increase Precision but not much decrease in Recall__. One such value form the above plot is around 0.6 Decision Threshold."
   ]
  },
  {
   "cell_type": "code",
   "execution_count": 28,
   "metadata": {
    "ExecuteTime": {
     "end_time": "2021-09-24T23:29:54.259513Z",
     "start_time": "2021-09-24T23:29:54.234530Z"
    }
   },
   "outputs": [
    {
     "name": "stdout",
     "output_type": "stream",
     "text": [
      "Count 0: 68\n",
      "Count 1: 103\n",
      "\n",
      "Percent of 1: 0.6023391812865497\n"
     ]
    },
    {
     "data": {
      "text/plain": [
       "[0, 1, 1, 0, 1, 1, 1, 1, 1, 1]"
      ]
     },
     "execution_count": 28,
     "metadata": {},
     "output_type": "execute_result"
    }
   ],
   "source": [
    "# Set the value of decision threshold.\n",
    "# decision_teshold = 0.5914643767268305\n",
    "decision_teshold = 0.579882727667065\n",
    "# decision_teshold = 0.59249372\n",
    "# decision_teshold = thres_pr\n",
    "# decision_teshold = same_pr\n",
    "# decision_teshold = thres_f1\n",
    "  \n",
    "# Desired prediction to increase precision value.\n",
    "preds_desired =[]\n",
    "  \n",
    "# Iterate through each value of decision function output\n",
    "# and if  decision score is > than Decision threshold then,\n",
    "# append (1) to the empty list ( desired_prediction) else\n",
    "# append (0).\n",
    "for i in d_func:\n",
    "    if i < decision_teshold:\n",
    "        preds_desired.append(0)\n",
    "    else:\n",
    "        preds_desired.append(1)\n",
    "\n",
    "\n",
    "\n",
    "print(f\"Count 0: {list(preds_desired).count(0)}\")\n",
    "print(f\"Count 1: {list(preds_desired).count(1)}\")\n",
    "\n",
    "print(f\"\\nPercent of 1: {list(preds_desired).count(1)  / (list(preds_desired).count(0) + list(preds_desired).count(1))}\")\n",
    "      \n",
    "preds_desired[:10]"
   ]
  },
  {
   "cell_type": "markdown",
   "metadata": {},
   "source": [
    "## Comparison between old and new Precision Values."
   ]
  },
  {
   "cell_type": "code",
   "execution_count": 29,
   "metadata": {
    "ExecuteTime": {
     "end_time": "2021-09-24T23:31:22.942854Z",
     "start_time": "2021-09-24T23:31:22.914859Z"
    }
   },
   "outputs": [
    {
     "name": "stdout",
     "output_type": "stream",
     "text": [
      "old precision value: 0.8991596638655462\n",
      "new precision value: 0.9611650485436893\n"
     ]
    }
   ],
   "source": [
    "\n",
    "# Comparison\n",
    "  \n",
    "# Old Precision Value\n",
    "print(\"old precision value:\", precision_score(y_valid, preds_actual))\n",
    "# New precision Value  \n",
    "print(\"new precision value:\", precision_score(y_valid, preds_desired))"
   ]
  },
  {
   "cell_type": "markdown",
   "metadata": {},
   "source": [
    "    decision_teshold = 0.59249372\n",
    "    Count 0: 69\n",
    "    Count 1: 102\n",
    "    Percent of 1: 0.5964912280701754\n",
    "    new precision value: 0.9607843137254902\n",
    "\n",
    "    decision_teshold = 0.5914643767268305\n",
    "    new precision value: 0.9607843137254902\n",
    "    \n",
    "    decision_teshold = 0.95480609\n",
    "    Count 0: 86\n",
    "    Count 1: 85\n",
    "    Percent of 1: 0.49707602339181284\n",
    "    new precision value: 0.9882352941176471"
   ]
  },
  {
   "cell_type": "markdown",
   "metadata": {},
   "source": [
    "# Threshold for F1-Score\n"
   ]
  },
  {
   "cell_type": "code",
   "execution_count": 16,
   "metadata": {
    "ExecuteTime": {
     "end_time": "2021-09-24T22:30:02.187720Z",
     "start_time": "2021-09-24T22:30:02.167733Z"
    }
   },
   "outputs": [
    {
     "name": "stdout",
     "output_type": "stream",
     "text": [
      "F1-Score: 0.94273\n"
     ]
    }
   ],
   "source": [
    "from sklearn.metrics import f1_score\n",
    "\n",
    "# predict labels\n",
    "preds_svc = svc.predict(X_valid)\n",
    "\n",
    "# evaluate the model\n",
    "f1_sc = f1_score(y_valid, preds_svc)\n",
    "print(f'F1-Score: {f1_sc:.5f}')"
   ]
  },
  {
   "cell_type": "code",
   "execution_count": 17,
   "metadata": {
    "ExecuteTime": {
     "end_time": "2021-09-24T22:30:18.819497Z",
     "start_time": "2021-09-24T22:30:18.808494Z"
    }
   },
   "outputs": [
    {
     "name": "stdout",
     "output_type": "stream",
     "text": [
      "F1 Scores: [0.92307692 0.91845494 0.92241379 0.92640693 0.93043478]\n",
      "Best threshold: 0.3050484262296397\n",
      "Best F1-Score: 0.963302752293578\n"
     ]
    }
   ],
   "source": [
    "f1 = (2*recall*precision) / (recall+precision)\n",
    "\n",
    "print(f\"F1 Scores: {f1[:5]}\")\n",
    "\n",
    "thres_f1 = thresholds[np.argmax(f1)]\n",
    "\n",
    "print(f'Best threshold: {thres_f1}')\n",
    "print(f'Best F1-Score: {np.max(f1)}')"
   ]
  },
  {
   "cell_type": "markdown",
   "metadata": {},
   "source": [
    "## Optimal Threshold Tuning for F1-Score SVC"
   ]
  },
  {
   "cell_type": "code",
   "execution_count": 20,
   "metadata": {
    "ExecuteTime": {
     "end_time": "2021-09-24T22:43:50.975116Z",
     "start_time": "2021-09-24T22:43:49.281813Z"
    }
   },
   "outputs": [
    {
     "name": "stdout",
     "output_type": "stream",
     "text": [
      "Len of Range Thresholds: 1000\n",
      "Best Threshold: 0.46500, F1-Score: 0.96330\n"
     ]
    }
   ],
   "source": [
    "from sklearn.metrics import precision_recall_curve\n",
    "from sklearn.svm import SVC\n",
    "\n",
    "# apply threshold to positive probabilities to create labels\n",
    "def to_labels(pos_probs, threshold):\n",
    "        return (pos_probs >= threshold).astype('int')\n",
    "\n",
    "# Create Classifier Object.\n",
    "svc = SVC(probability=True)\n",
    "svc.fit(X_train, y_train)\n",
    "\n",
    "# predict probabilities\n",
    "probs_svc = svc.predict_proba(X_valid)\n",
    "# keep probabilities for the positive outcome only\n",
    "\n",
    "# calculate pr-curve\n",
    "precision, recall, thresholds = precision_recall_curve(y_valid, probs_svc[:, 1])\n",
    "\n",
    "no_skill = len(y_valid[y_valid==1]) / len(y_valid)\n",
    "\n",
    "\n",
    "# define thresholds\n",
    "thres_range = np.arange(0, 1, 0.001)\n",
    "print(f\"Len of Range Thresholds: {len(thres_range)}\")\n",
    "\n",
    "# evaluate each threshold\n",
    "scores = [f1_score(y_valid, to_labels(probs_svc[:, 1], t)) for t in thres_range]\n",
    "\n",
    "# get best threshold\n",
    "ix = np.argmax(scores)\n",
    "\n",
    "print(f'Best Threshold: {thres_range[ix]:.5f}, F1-Score: {scores[ix]:.5f}')"
   ]
  },
  {
   "cell_type": "code",
   "execution_count": 22,
   "metadata": {
    "ExecuteTime": {
     "end_time": "2021-09-24T22:46:37.267632Z",
     "start_time": "2021-09-24T22:46:36.953611Z"
    }
   },
   "outputs": [
    {
     "data": {
      "image/png": "[encoded data removed]",
      "text/plain": [
       "<Figure size 576x432 with 1 Axes>"
      ]
     },
     "metadata": {
      "needs_background": "light"
     },
     "output_type": "display_data"
    }
   ],
   "source": [
    "# plot the roc curve for the model\n",
    "plt.figure(figsize=(8, 6))\n",
    "plt.plot(thres_range, scores, marker='.', color='green', label='Thresholds')\n",
    "plt.scatter(thres_range[ix], scores[ix], marker='o', color='red', label='Best Threshold')\n",
    "# axis labels\n",
    "plt.ylabel('F1 Scores')\n",
    "plt.xlabel('Threshold')\n",
    "plt.legend()\n",
    "# show the plot\n",
    "plt;"
   ]
  },
  {
   "cell_type": "code",
   "execution_count": 159,
   "metadata": {
    "ExecuteTime": {
     "end_time": "2021-09-24T18:50:01.223319Z",
     "start_time": "2021-09-24T18:50:01.204303Z"
    }
   },
   "outputs": [
    {
     "data": {
      "text/plain": [
       "False"
      ]
     },
     "execution_count": 159,
     "metadata": {},
     "output_type": "execute_result"
    }
   ],
   "source": [
    "thres_tutorial = 0.5914643767268305\n",
    "\n",
    "thres_tutorial in thresholds"
   ]
  },
  {
   "cell_type": "markdown",
   "metadata": {},
   "source": [
    "# RandomForestClassifier"
   ]
  },
  {
   "cell_type": "code",
   "execution_count": 36,
   "metadata": {
    "ExecuteTime": {
     "end_time": "2021-09-24T23:37:10.699534Z",
     "start_time": "2021-09-24T23:37:07.026333Z"
    }
   },
   "outputs": [
    {
     "name": "stdout",
     "output_type": "stream",
     "text": [
      "F1-Score RandomForest: 0.96744\n"
     ]
    }
   ],
   "source": [
    "from sklearn.ensemble import RandomForestClassifier\n",
    "from sklearn.metrics import f1_score\n",
    "\n",
    "rfc = RandomForestClassifier(n_estimators=1000, \n",
    "                             max_leaf_nodes=500, \n",
    "#                              max_leaf_nodes=None, \n",
    "                             n_jobs=N_JOBS)\n",
    "\n",
    "rfc.fit(X_train, y_train)\n",
    "\n",
    "preds_rfc = rfc.predict(X_valid)\n",
    "preds_rfc[:5]\n",
    "\n",
    "# predict labels\n",
    "preds_svc = svc.predict(X_valid)\n",
    "\n",
    "# evaluate the model\n",
    "f1_rfc = f1_score(y_valid, preds_rfc)\n",
    "print(f'F1-Score RandomForest: {f1_rfc:.5f}')"
   ]
  },
  {
   "cell_type": "markdown",
   "metadata": {},
   "source": [
    "## Optimal Threshold Tuning for F1-Score RandomForest\n"
   ]
  },
  {
   "cell_type": "code",
   "execution_count": 63,
   "metadata": {
    "ExecuteTime": {
     "end_time": "2021-09-25T00:07:03.806583Z",
     "start_time": "2021-09-25T00:07:02.114324Z"
    }
   },
   "outputs": [
    {
     "name": "stdout",
     "output_type": "stream",
     "text": [
      "Len of Range Thresholds: 1000\n",
      "Best Threshold: 0.45100, F1-Score: 0.98605\n"
     ]
    }
   ],
   "source": [
    "from sklearn.metrics import precision_recall_curve\n",
    "from sklearn.ensemble import RandomForestClassifier\n",
    "\n",
    "# apply threshold to positive probabilities to create labels\n",
    "def to_labels(pos_probs, threshold):\n",
    "        return (pos_probs >= threshold).astype('int')\n",
    "\n",
    "rfc = RandomForestClassifier(\n",
    "#                              n_estimators=1000, \n",
    "#                              max_leaf_nodes=500, \n",
    "#                              max_leaf_nodes=None, \n",
    "                             n_jobs=N_JOBS)\n",
    "\n",
    "rfc.fit(X_train, y_train)\n",
    "\n",
    "# predict labels\n",
    "probs_rfc = rfc.predict_proba(X_valid)\n",
    "\n",
    "# calculate pr-curve\n",
    "precision, recall, thresholds = precision_recall_curve(y_valid, probs_rfc[:, 1])\n",
    "\n",
    "no_skill = len(y_valid[y_valid==1]) / len(y_valid)\n",
    "\n",
    "\n",
    "# define thresholds\n",
    "thres_range = np.arange(0, 1, 0.001)\n",
    "print(f\"Len of Range Thresholds: {len(thres_range)}\")\n",
    "\n",
    "# evaluate each threshold\n",
    "scores = [f1_score(y_valid, to_labels(probs_rfc[:, 1], t)) for t in thres_range]\n",
    "\n",
    "# get best threshold\n",
    "ix = np.argmax(scores)\n",
    "\n",
    "print(f'Best Threshold: {thres_range[ix]:.5f}, F1-Score: {scores[ix]:.5f}')"
   ]
  },
  {
   "cell_type": "code",
   "execution_count": 64,
   "metadata": {
    "ExecuteTime": {
     "end_time": "2021-09-25T00:07:10.330104Z",
     "start_time": "2021-09-25T00:07:10.005126Z"
    }
   },
   "outputs": [
    {
     "data": {
      "image/png": "[encoded data removed]",
      "text/plain": [
       "<Figure size 576x432 with 1 Axes>"
      ]
     },
     "metadata": {
      "needs_background": "light"
     },
     "output_type": "display_data"
    }
   ],
   "source": [
    "# plot the roc curve for the model\n",
    "plt.figure(figsize=(8, 6))\n",
    "plt.plot(thres_range, scores, marker='.', color='green', label='Thresholds')\n",
    "plt.scatter(thres_range[ix], scores[ix], marker='o', color='red', label='Best Threshold')\n",
    "# axis labels\n",
    "plt.ylabel('F1 Scores')\n",
    "plt.xlabel('Threshold')\n",
    "plt.legend()\n",
    "# show the plot\n",
    "plt;"
   ]
  },
  {
   "cell_type": "markdown",
   "metadata": {},
   "source": [
    "## Comparison between old and new F1-Scores Values."
   ]
  },
  {
   "cell_type": "code",
   "execution_count": 58,
   "metadata": {
    "ExecuteTime": {
     "end_time": "2021-09-25T00:05:30.116715Z",
     "start_time": "2021-09-25T00:05:30.104713Z"
    }
   },
   "outputs": [
    {
     "data": {
      "text/plain": [
       "0.425"
      ]
     },
     "execution_count": 58,
     "metadata": {},
     "output_type": "execute_result"
    }
   ],
   "source": [
    "# probs_rfc\n",
    "thres_range[ix]"
   ]
  },
  {
   "cell_type": "code",
   "execution_count": 70,
   "metadata": {
    "ExecuteTime": {
     "end_time": "2021-09-25T00:20:39.523035Z",
     "start_time": "2021-09-25T00:20:39.503053Z"
    }
   },
   "outputs": [
    {
     "name": "stdout",
     "output_type": "stream",
     "text": [
      "0.451\n"
     ]
    },
    {
     "data": {
      "text/plain": [
       "[0, 1, 1, 1, 1, 1, 1, 1, 1, 1, 1, 1, 1, 0, 1, 0, 1, 0, 0, 0]"
      ]
     },
     "execution_count": 70,
     "metadata": {},
     "output_type": "execute_result"
    }
   ],
   "source": [
    "# Threshold Good\n",
    "threshold = thres_range[ix]\n",
    "print(threshold)\n",
    "preds_rfc_ = [1 if x >= threshold else 0 for x in probs_rfc[:, 1]]\n",
    "preds_rfc_[:20]"
   ]
  },
  {
   "cell_type": "code",
   "execution_count": 68,
   "metadata": {
    "ExecuteTime": {
     "end_time": "2021-09-25T00:08:31.748576Z",
     "start_time": "2021-09-25T00:08:31.306684Z"
    }
   },
   "outputs": [
    {
     "name": "stdout",
     "output_type": "stream",
     "text": [
      "Old F1 Scores value: 0.9674418604651163\n",
      "New F1 Scores value: 0.986046511627907\n"
     ]
    }
   ],
   "source": [
    "rfc = RandomForestClassifier(n_jobs=N_JOBS)\n",
    "\n",
    "rfc.fit(X_train, y_train)\n",
    "# predict labels\n",
    "preds_rfc = rfc.predict(X_valid)\n",
    "\n",
    "# Comparison\n",
    "  \n",
    "# Old Precision Value\n",
    "print(\"Old F1 Scores value:\", f1_score(y_valid, preds_rfc))\n",
    "# New precision Value  \n",
    "print(\"New F1 Scores value:\", f1_score(y_valid, preds_rfc_))"
   ]
  }
 ],
 "metadata": {
  "kernelspec": {
   "display_name": "Python 3 (ipykernel)",
   "language": "python",
   "name": "python3"
  },
  "language_info": {
   "codemirror_mode": {
    "name": "ipython",
    "version": 3
   },
   "file_extension": ".py",
   "mimetype": "text/x-python",
   "name": "python",
   "nbconvert_exporter": "python",
   "pygments_lexer": "ipython3",
   "version": "3.9.7"
  },
  "toc": {
   "base_numbering": 1,
   "nav_menu": {},
   "number_sections": true,
   "sideBar": true,
   "skip_h1_title": false,
   "title_cell": "Table of Contents",
   "title_sidebar": "Contents",
   "toc_cell": false,
   "toc_position": {
    "height": "calc(100% - 180px)",
    "left": "10px",
    "top": "150px",
    "width": "204.8px"
   },
   "toc_section_display": true,
   "toc_window_display": false
  }
 },
 "nbformat": 4,
 "nbformat_minor": 4
}
